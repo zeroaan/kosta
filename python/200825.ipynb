{
 "cells": [
  {
   "cell_type": "code",
   "execution_count": 9,
   "metadata": {
    "scrolled": false
   },
   "outputs": [
    {
     "name": "stdout",
     "output_type": "stream",
     "text": [
      "숫자를 입력하세요.:16\n",
      "정답은 4\n"
     ]
    }
   ],
   "source": [
    "num = int(input(\"숫자를 입력하세요.:\"))\n",
    "i = 0\n",
    "while(1):\n",
    "    if (i*i > num):\n",
    "        print(\"정답은\", i-1)\n",
    "        break\n",
    "    i += 1"
   ]
  },
  {
   "cell_type": "code",
   "execution_count": 8,
   "metadata": {},
   "outputs": [
    {
     "name": "stdout",
     "output_type": "stream",
     "text": [
      "연산을 입력하세요.(0:종료): 0\n",
      "감사합니다.\n"
     ]
    }
   ],
   "source": [
    "while(1):\n",
    "    op = input(\"연산을 입력하세요.(0:종료): \")\n",
    "    if(op not in ['+', '-', '*', '/', '0']):\n",
    "        print(\"+ - * / 중 하나를 입력하세요.\")\n",
    "        continue\n",
    "    if(op == \"0\"):\n",
    "        print(\"감사합니다.\")\n",
    "        break\n",
    "        \n",
    "    a, b = input(\"숫자 두개를 입력하세요.: \").split()\n",
    "    a = int(a)\n",
    "    b = int(b)\n",
    "    result = 0\n",
    "    \n",
    "    if(op == \"+\"):\n",
    "        result = a + b\n",
    "    elif(op == \"-\"):\n",
    "        result = a - b\n",
    "    elif(op == \"*\"):\n",
    "        result = a * b\n",
    "    elif(op == \"/\"):\n",
    "        result = a / b\n",
    "    print(\"결과값은\", result)"
   ]
  },
  {
   "cell_type": "code",
   "execution_count": 1,
   "metadata": {},
   "outputs": [
    {
     "data": {
      "text/plain": [
       "[0, 2, 4, 6, 8, 10, 12, 14, 16, 18]"
      ]
     },
     "execution_count": 1,
     "metadata": {},
     "output_type": "execute_result"
    }
   ],
   "source": [
    "[i*2 for i in range(10)]"
   ]
  },
  {
   "cell_type": "code",
   "execution_count": 20,
   "metadata": {},
   "outputs": [
    {
     "name": "stdout",
     "output_type": "stream",
     "text": [
      "Best python book\n"
     ]
    }
   ],
   "source": [
    "print(\"Best\", \"python\", \"book\")"
   ]
  },
  {
   "cell_type": "code",
   "execution_count": 26,
   "metadata": {},
   "outputs": [
    {
     "name": "stdout",
     "output_type": "stream",
     "text": [
      "Best___python___book\n"
     ]
    }
   ],
   "source": [
    "print(\"Best\", \"python\", \"book\", sep=\"___\")"
   ]
  },
  {
   "cell_type": "code",
   "execution_count": 28,
   "metadata": {},
   "outputs": [
    {
     "name": "stdout",
     "output_type": "stream",
     "text": [
      "abcdefg\n"
     ]
    }
   ],
   "source": [
    "print(\"abcd\" + \"efg\")"
   ]
  },
  {
   "cell_type": "code",
   "execution_count": 30,
   "metadata": {},
   "outputs": [
    {
     "name": "stdout",
     "output_type": "stream",
     "text": [
      "Best python book: this book\n"
     ]
    }
   ],
   "source": [
    "print(\"Best\", \"python\", \"book\" + \":\", \"this book\")"
   ]
  },
  {
   "cell_type": "code",
   "execution_count": 31,
   "metadata": {},
   "outputs": [
    {
     "name": "stdout",
     "output_type": "stream",
     "text": [
      "Name: James, ID Number: 789\n"
     ]
    }
   ],
   "source": [
    "name = \"James\"\n",
    "ID_num = 789\n",
    "print(\"Name: \"+ name + \",\" + \" ID Number: \" + str(ID_num))"
   ]
  },
  {
   "cell_type": "code",
   "execution_count": 33,
   "metadata": {},
   "outputs": [
    {
     "name": "stdout",
     "output_type": "stream",
     "text": [
      "James is my friend.\n",
      "\n",
      "He is korean\n"
     ]
    }
   ],
   "source": [
    "print(\"James is my friend.\\n\\nHe is korean\")"
   ]
  },
  {
   "cell_type": "code",
   "execution_count": 35,
   "metadata": {},
   "outputs": [
    {
     "name": "stdout",
     "output_type": "stream",
     "text": [
      "Animal: cat\n",
      "Animal: cat,dog,fox\n"
     ]
    }
   ],
   "source": [
    "animal0 = \"cat\"\n",
    "animal1 = \"dog\"\n",
    "animal2 = \"fox\"\n",
    "\n",
    "print(\"Animal: {0}\".format(animal0))\n",
    "print(\"Animal: {0},{1},{2}\".format(animal0, animal1, animal2))"
   ]
  },
  {
   "cell_type": "code",
   "execution_count": 49,
   "metadata": {},
   "outputs": [
    {
     "name": "stdout",
     "output_type": "stream",
     "text": [
      "숫자 입력:5\n"
     ]
    }
   ],
   "source": [
    "f = open(\"myfile.txt\", \"w\")\n",
    "\n",
    "num = int(input(\"숫자 입력:\"))\n",
    "for i in range(1, 10):\n",
    "    f.write(str(num) + \" x \" + str(i) + \" = \" + str(num*i) + \"\\n\")\n",
    "\n",
    "f.close()"
   ]
  },
  {
   "cell_type": "code",
   "execution_count": 51,
   "metadata": {},
   "outputs": [
    {
     "name": "stdout",
     "output_type": "stream",
     "text": [
      "5 x 1 = 5\n",
      "5 x 2 = 10\n",
      "5 x 3 = 15\n",
      "5 x 4 = 20\n",
      "5 x 5 = 25\n",
      "5 x 6 = 30\n",
      "5 x 7 = 35\n",
      "5 x 8 = 40\n",
      "5 x 9 = 45\n",
      "\n"
     ]
    }
   ],
   "source": [
    "f = open(\"myfile.txt\", \"r\")\n",
    "f_text = f.read()\n",
    "f.close()\n",
    "\n",
    "print(f_text)"
   ]
  },
  {
   "cell_type": "code",
   "execution_count": 56,
   "metadata": {},
   "outputs": [
    {
     "name": "stdout",
     "output_type": "stream",
     "text": [
      "5 x 1 = 5\n",
      "5 x 2 = 10\n",
      "5 x 3 = 15\n",
      "5 x 4 = 20\n",
      "5 x 5 = 25\n",
      "5 x 6 = 30\n",
      "5 x 7 = 35\n",
      "5 x 8 = 40\n",
      "5 x 9 = 45\n"
     ]
    }
   ],
   "source": [
    "f = open(\"myfile.txt\", \"r\")\n",
    "for line in f:\n",
    "    print(line, end=\"\")\n",
    "f.close()"
   ]
  },
  {
   "cell_type": "markdown",
   "metadata": {},
   "source": []
  }
 ],
 "metadata": {
  "kernelspec": {
   "display_name": "Python 3",
   "language": "python",
   "name": "python3"
  },
  "language_info": {
   "codemirror_mode": {
    "name": "ipython",
    "version": 3
   },
   "file_extension": ".py",
   "mimetype": "text/x-python",
   "name": "python",
   "nbconvert_exporter": "python",
   "pygments_lexer": "ipython3",
   "version": "3.7.7"
  }
 },
 "nbformat": 4,
 "nbformat_minor": 4
}
